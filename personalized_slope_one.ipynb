{
 "cells": [
  {
   "cell_type": "markdown",
   "metadata": {
    "id": "ILE56kn3leKp"
   },
   "source": [
    "# Install and load necesary packages"
   ]
  },
  {
   "cell_type": "code",
   "execution_count": 1,
   "metadata": {
    "id": "0TWCDAaWleKr"
   },
   "outputs": [],
   "source": [
    "# Please don't change this cell\n",
    "\n",
    "import pandas as pd\n",
    "import numpy as np  \n",
    "\n",
    "import warnings\n",
    "warnings.filterwarnings(\"ignore\")"
   ]
  },
  {
   "cell_type": "code",
   "execution_count": 2,
   "metadata": {
    "colab": {
     "base_uri": "https://localhost:8080/",
     "height": 206
    },
    "id": "NKza98ngleKt",
    "outputId": "d59bcb3a-fff2-4b40-ec7b-3b881aab2d47"
   },
   "outputs": [
    {
     "data": {
      "text/html": [
       "<div>\n",
       "<style scoped>\n",
       "    .dataframe tbody tr th:only-of-type {\n",
       "        vertical-align: middle;\n",
       "    }\n",
       "\n",
       "    .dataframe tbody tr th {\n",
       "        vertical-align: top;\n",
       "    }\n",
       "\n",
       "    .dataframe thead th {\n",
       "        text-align: right;\n",
       "    }\n",
       "</style>\n",
       "<table border=\"1\" class=\"dataframe\">\n",
       "  <thead>\n",
       "    <tr style=\"text-align: right;\">\n",
       "      <th></th>\n",
       "      <th>user_id</th>\n",
       "      <th>item_id</th>\n",
       "      <th>rating</th>\n",
       "      <th>timestamp</th>\n",
       "    </tr>\n",
       "  </thead>\n",
       "  <tbody>\n",
       "    <tr>\n",
       "      <th>0</th>\n",
       "      <td>196</td>\n",
       "      <td>242</td>\n",
       "      <td>3</td>\n",
       "      <td>881250949</td>\n",
       "    </tr>\n",
       "    <tr>\n",
       "      <th>1</th>\n",
       "      <td>186</td>\n",
       "      <td>302</td>\n",
       "      <td>3</td>\n",
       "      <td>891717742</td>\n",
       "    </tr>\n",
       "    <tr>\n",
       "      <th>2</th>\n",
       "      <td>22</td>\n",
       "      <td>377</td>\n",
       "      <td>1</td>\n",
       "      <td>878887116</td>\n",
       "    </tr>\n",
       "    <tr>\n",
       "      <th>3</th>\n",
       "      <td>244</td>\n",
       "      <td>51</td>\n",
       "      <td>2</td>\n",
       "      <td>880606923</td>\n",
       "    </tr>\n",
       "    <tr>\n",
       "      <th>4</th>\n",
       "      <td>166</td>\n",
       "      <td>346</td>\n",
       "      <td>1</td>\n",
       "      <td>886397596</td>\n",
       "    </tr>\n",
       "  </tbody>\n",
       "</table>\n",
       "</div>"
      ],
      "text/plain": [
       "   user_id  item_id  rating  timestamp\n",
       "0      196      242       3  881250949\n",
       "1      186      302       3  891717742\n",
       "2       22      377       1  878887116\n",
       "3      244       51       2  880606923\n",
       "4      166      346       1  886397596"
      ]
     },
     "execution_count": 2,
     "metadata": {},
     "output_type": "execute_result"
    }
   ],
   "source": [
    "# Please don't change this cell\n",
    "df = pd.read_csv('ml-100k/u.data', names=['user_id', 'item_id', 'rating', 'timestamp'], sep='\\t')\n",
    "\n",
    "df.head()"
   ]
  },
  {
   "cell_type": "markdown",
   "metadata": {
    "id": "9ZGEPTuwleKu"
   },
   "source": [
    "# Split dataset\n",
    "## Random Train and Test Split"
   ]
  },
  {
   "cell_type": "code",
   "execution_count": 3,
   "metadata": {
    "colab": {
     "base_uri": "https://localhost:8080/"
    },
    "id": "G-RHzO6hleKu",
    "outputId": "e77abc52-6bec-4be1-a3fb-c216fca07942"
   },
   "outputs": [
    {
     "name": "stdout",
     "output_type": "stream",
     "text": [
      "943 users\n",
      "1682 items\n",
      "Construct the rating matrix based on train_df:\n",
      "[[0. 3. 4. ... 0. 0. 0.]\n",
      " [4. 0. 0. ... 0. 0. 0.]\n",
      " [0. 0. 0. ... 0. 0. 0.]\n",
      " ...\n",
      " [5. 0. 0. ... 0. 0. 0.]\n",
      " [0. 0. 0. ... 0. 0. 0.]\n",
      " [0. 5. 0. ... 0. 0. 0.]]\n",
      "Construct the rating matrix based on test_df:\n",
      "[[5. 0. 0. ... 0. 0. 0.]\n",
      " [0. 0. 0. ... 0. 0. 0.]\n",
      " [0. 0. 0. ... 0. 0. 0.]\n",
      " ...\n",
      " [0. 0. 0. ... 0. 0. 0.]\n",
      " [0. 0. 0. ... 0. 0. 0.]\n",
      " [0. 0. 0. ... 0. 0. 0.]]\n"
     ]
    }
   ],
   "source": [
    "from sklearn.model_selection import train_test_split\n",
    "\n",
    "n_users = df.user_id.unique().shape[0]\n",
    "n_items = df.item_id.unique().shape[0]\n",
    "print(str(n_users) + ' users')\n",
    "print(str(n_items) + ' items')\n",
    "\n",
    "train_df, test_df = train_test_split(df, test_size=0.2, random_state = 10)\n",
    "train_df, test_df\n",
    "\n",
    "# Training Dataset\n",
    "train_ds = np.zeros((n_users, n_items))\n",
    "for row in train_df.itertuples():\n",
    "    train_ds[row[1]-1, row[2]-1] = row[3]\n",
    "#train_ds = pd.DataFrame(train_ds)\n",
    "\n",
    "# Testing Dataset\n",
    "test_ds = np.zeros((n_users, n_items))\n",
    "for row in test_df.itertuples():\n",
    "    test_ds[row[1]-1, row[2]-1] = row[3]\n",
    "#test_ds = pd.DataFrame(test_ds)\n",
    "\n",
    "print(\"Construct the rating matrix based on train_df:\")\n",
    "print(train_ds)\n",
    "\n",
    "print(\"Construct the rating matrix based on test_df:\")\n",
    "print(test_ds)"
   ]
  },
  {
   "cell_type": "markdown",
   "metadata": {
    "id": "AU6zcOdpleKv"
   },
   "source": [
    "# Utils"
   ]
  },
  {
   "cell_type": "code",
   "execution_count": null,
   "metadata": {
    "id": "pdxUHiitleKv"
   },
   "outputs": [],
   "source": [
    "EPSILON = 1e-9\n",
    "\n",
    "def evaluate(test_ds, predicted_ds):\n",
    "    '''\n",
    "    Function for evaluating on MAE and RMSE\n",
    "    '''\n",
    "    # MAE\n",
    "    mask_test_ds = test_ds > 0\n",
    "    MAE = np.sum(np.abs(test_ds[mask_test_ds] - predicted_ds[mask_test_ds])) / np.sum(mask_test_ds.astype(np.float32))\n",
    "\n",
    "    # RMSE\n",
    "    RMSE = np.sqrt(np.sum(np.square(test_ds[mask_test_ds] - predicted_ds[mask_test_ds])) / np.sum(mask_test_ds.astype(np.float32)))\n",
    "\n",
    "    return MAE, RMSE"
   ]
  },
  {
   "cell_type": "markdown",
   "metadata": {
    "id": "cJeP8PEgleKx"
   },
   "source": [
    "# Your Solution"
   ]
  },
  {
   "cell_type": "code",
   "execution_count": null,
   "metadata": {},
   "outputs": [],
   "source": [
    "\n",
    "\n",
    "MAE = 0 # 0 is an intial value, you need to update this with the actual perofrmance of your implementation.\n",
    "RMSE = 0 # 0 is an intial value, you need to update this with the actual perofrmance of your implementation.\n",
    "\n",
    "\n",
    "\n",
    "# Setting the predefined lambda value\n",
    "# As we do personalised weighted slope one, so keeping lamda close to zero will be good\n",
    "pre_defined_lambda = 0.3\n",
    "\n",
    "# Calculate similarities between current user and all users in train_ds and storing in 'similarities' array\n",
    "similar_users = np.zeros(train_ds.shape[0])\n",
    "# for now setting current user to user 0\n",
    "curr_user = 0\n",
    "current_rating = train_ds[curr_user]\n",
    "for i in range(train_ds.shape[0]):\n",
    "    # Skipping the loop when i is equal to current user.\n",
    "    if i != curr_user:\n",
    "        rating = train_ds[i]\n",
    "        # Finding the common ratings between 2 users when their rating is greater than 0.\n",
    "        common_rating = np.logical_and(current_rating > 0, rating > 0)\n",
    "        # Calculating the similarity when the common rating is greater than 0.\n",
    "        if np.sum(common_rating) > 0:\n",
    "            # Subtracting the rating value with the mean of commononly rated items to find Pearson coefficient\n",
    "            mean_current_rating = current_rating[common_rating] - np.mean(current_rating[common_rating])\n",
    "            mean_user_rating = rating[common_rating] - np.mean(rating[common_rating])\n",
    "            # Apply centered cosine formula\n",
    "            similarity = np.sum(mean_current_rating * mean_user_rating) / np.sqrt(np.sum(mean_current_rating ** 2) * np.sum(mean_user_rating ** 2))\n",
    "            similar_users[i] = similarity\n",
    "\n",
    "            \n",
    "# Replacing the Nan Values with zero for calculation\n",
    "similar_users = np.where(np.isnan(similar_users), 0, similar_users)  \n",
    "\n",
    "\n",
    "# Initializing the deviation and cardinality matrix with zero\n",
    "dev = np.zeros((n_items, n_items))\n",
    "cardinality_matrix = np.zeros((n_items, n_items))\n",
    "\n",
    "for item_j in range(n_items):\n",
    "    for item_i in range(n_items):\n",
    "        # Skipping the loop when item_i = item_j as it will be 0.\n",
    "        if item_i != item_j:\n",
    "            # Finding the common users\n",
    "            common_users = np.logical_and(train_ds[:, item_i] > 0, train_ds[:, item_j] > 0)\n",
    "            # cardinality is total number of users rated same item\n",
    "            cardinality = np.sum(common_users)\n",
    "            if cardinality > 0:\n",
    "                rating_j = train_ds[common_users, item_j]\n",
    "                rating_i = train_ds[common_users, item_i]\n",
    "                # Calculating the first part of the formula representing the Slope One Deviation(item-item based)\n",
    "                lhs = pre_defined_lambda * np.sum((rating_j - rating_i) / cardinality)\n",
    "                # Calculating the second part of the formula representing deviation for personalize recommendation\n",
    "                rhs = (1 - pre_defined_lambda) * (np.sum((rating_j - rating_i) * 2 ** (similar_users[np.where(common_users)[0]])) / (np.sum(2**(similar_users[np.where(common_users)[0]])) * cardinality))\n",
    "\n",
    "                # Combining both the parts and storing in the dev matrix for predictions\n",
    "                dev[item_j, item_i] = lhs + rhs\n",
    "                \n",
    "                cardinality_matrix[item_j, item_i] = cardinality\n",
    "            else:\n",
    "                # when no cardinality is 0\n",
    "                dev[item_j, item_i] = 0.0\n",
    "                cardinality_matrix[item_j, item_i] = 0.0\n",
    "\n",
    "# Perform predictions\n",
    "# predict for user x item\n",
    "pred_test = np.zeros((n_users,n_items))\n",
    "for i in range(n_users):\n",
    "    for j in range(n_items):\n",
    "        items = np.where(np.logical_and(train_ds[i] > 0, cardinality_matrix[j] > 0))[0]\n",
    "        if len(items) > 0:\n",
    "            # prediction formula\n",
    "            prediction = np.sum((dev[items, j] + train_ds[i, items]) * cardinality_matrix[items, j]) / np.sum(cardinality_matrix[items, j])\n",
    "            pred_test[i, j] = prediction\n",
    "\n",
    "MAE, RMSE = evaluate(test_ds, pred_test)\n"
   ]
  },
  {
   "cell_type": "code",
   "execution_count": 7,
   "metadata": {},
   "outputs": [
    {
     "name": "stdout",
     "output_type": "stream",
     "text": [
      "===================== The MAE and RMSE of Your Implementation =====================\n",
      "MAE: 0.8938467172315683, RMSE: 1.1394117893501086\n"
     ]
    }
   ],
   "source": [
    "# Please don't change this cell\n",
    "\n",
    "print(\"===================== The MAE and RMSE of Your Implementation =====================\")\n",
    "print(\"MAE: {}, RMSE: {}\" .format(MAE, RMSE))"
   ]
  }
 ],
 "metadata": {
  "colab": {
   "provenance": []
  },
  "kernelspec": {
   "display_name": "Python 3",
   "language": "python",
   "name": "python3"
  },
  "language_info": {
   "codemirror_mode": {
    "name": "ipython",
    "version": 3
   },
   "file_extension": ".py",
   "mimetype": "text/x-python",
   "name": "python",
   "nbconvert_exporter": "python",
   "pygments_lexer": "ipython3",
   "version": "3.8.8"
  }
 },
 "nbformat": 4,
 "nbformat_minor": 1
}
